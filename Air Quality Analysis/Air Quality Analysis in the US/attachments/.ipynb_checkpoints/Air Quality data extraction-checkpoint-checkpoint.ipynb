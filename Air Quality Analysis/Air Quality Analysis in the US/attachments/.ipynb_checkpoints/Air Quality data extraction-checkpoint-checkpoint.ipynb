{
 "cells": [
  {
   "cell_type": "code",
   "execution_count": null,
   "id": "be177c7f-3b16-4619-a4f4-62030bb0865d",
   "metadata": {},
   "outputs": [],
   "source": [
    "import pandas pd\n",
    "import numpy as np\n",
    "import matplotlib.pyplot as plt\n",
    "import seaborn as sns"
   ]
  },
  {
   "cell_type": "code",
   "execution_count": null,
   "id": "5c28b78c-37c7-4cbb-b807-c6f6cfcaeb4b",
   "metadata": {},
   "outputs": [],
   "source": [
    "data = pd.read_csv(\"Air_Quality_Changes_in_The_US.csv\")"
   ]
  },
  {
   "cell_type": "code",
   "execution_count": null,
   "id": "2511bce9-ed0d-4362-a8ac-157abe5beff3",
   "metadata": {},
   "outputs": [],
   "source": [
    "data"
   ]
  }
 ],
 "metadata": {
  "kernelspec": {
   "display_name": "Python 3 (ipykernel)",
   "language": "python",
   "name": "python3"
  },
  "language_info": {
   "codemirror_mode": {
    "name": "ipython",
    "version": 3
   },
   "file_extension": ".py",
   "mimetype": "text/x-python",
   "name": "python",
   "nbconvert_exporter": "python",
   "pygments_lexer": "ipython3",
   "version": "3.11.1"
  }
 },
 "nbformat": 4,
 "nbformat_minor": 5
}
